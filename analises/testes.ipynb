{
 "cells": [
  {
   "cell_type": "code",
   "execution_count": 1,
   "id": "9998c9ed",
   "metadata": {},
   "outputs": [
    {
     "name": "stderr",
     "output_type": "stream",
     "text": [
      "┌ Info: Precompiling Grafos [1ace5ffd-c36e-46d5-9615-226de7dc328e]\n",
      "└ @ Base loading.jl:1423\n"
     ]
    }
   ],
   "source": [
    "using Grafos"
   ]
  },
  {
   "cell_type": "code",
   "execution_count": 2,
   "id": "aedb935d",
   "metadata": {},
   "outputs": [],
   "source": [
    "# Criação dos vertices.\n",
    "a = Vertice(1, \"a\")\n",
    "b = Vertice(2, \"b\")\n",
    "c = Vertice(3, \"c\")\n",
    "d = Vertice(4, \"d\")\n",
    "e = Vertice(5, \"e\")\n",
    "f = Vertice(6, \"f\")\n",
    "g = Vertice(7, \"g\")\n",
    "h = Vertice(8, \"h\")\n",
    "i = Vertice(9, \"i\")\n",
    "\n",
    "# Adicionando os vertices em um vetor.\n",
    "V =  [a, b, c, d, e, f, g, h, i];"
   ]
  },
  {
   "cell_type": "code",
   "execution_count": 3,
   "id": "80b9d8b5",
   "metadata": {},
   "outputs": [],
   "source": [
    "# Criação das arestas.\n",
    "ae = Aresta(a, e)\n",
    "ad = Aresta(a, d)\n",
    "ac = Aresta(a, c)\n",
    "ai = Aresta(a, i)\n",
    "ah = Aresta(a, h)\n",
    "ag = Aresta(a, g)\n",
    "af = Aresta(a, f)\n",
    "ab = Aresta(a, b)\n",
    "\n",
    "bc = Aresta(b, c)\n",
    "bd = Aresta(b, d)\n",
    "\n",
    "cd = Aresta(c, d)\n",
    "ce = Aresta(c, e)\n",
    "cg = Aresta(c, g)\n",
    "\n",
    "de = Aresta(d, e)\n",
    "dg = Aresta(d, g)\n",
    "\n",
    "eg = Aresta(e, g)\n",
    "\n",
    "fh = Aresta(f, h)\n",
    "\n",
    "gh = Aresta(g, h)\n",
    "gi = Aresta(g, i)\n",
    "\n",
    "hi = Aresta(h,i)\n",
    "\n",
    "# Adicionando as arestas em um vetor.\n",
    "A = [ab, ac, ad, ae, ag, ai, ah, af, fh, gh, hi, gi, cg, dg, eg, ce, de, cd, bd, bc];"
   ]
  },
  {
   "cell_type": "code",
   "execution_count": 4,
   "id": "f320c96f",
   "metadata": {},
   "outputs": [],
   "source": [
    "# Criação do grafo.\n",
    "grafo = Grafo(V, A);"
   ]
  },
  {
   "cell_type": "code",
   "execution_count": 5,
   "id": "b14f3574",
   "metadata": {},
   "outputs": [
    {
     "data": {
      "text/plain": [
       "3-element Vector{Any}:\n",
       " Vertice(1, \"a\")\n",
       " Vertice(4, \"d\")\n",
       " Vertice(3, \"c\")"
      ]
     },
     "execution_count": 5,
     "metadata": {},
     "output_type": "execute_result"
    }
   ],
   "source": [
    "# Exemplo de vertices adjacentes a vertice b.\n",
    "adjacentes(grafo, b)"
   ]
  },
  {
   "cell_type": "code",
   "execution_count": 6,
   "id": "0ffd86c8",
   "metadata": {},
   "outputs": [
    {
     "name": "stdout",
     "output_type": "stream",
     "text": [
      "Vértice\t\tLista Adjacente\n",
      "a\t\tb, c, d, e, f, g, h, i\n",
      "b\t\ta, c, d\n",
      "c\t\ta, b, d, e, g\n",
      "d\t\ta, b, c, e, g\n",
      "e\t\ta, c, d, g\n",
      "f\t\ta, h\n",
      "g\t\ta, c, d, e, h, i\n",
      "h\t\ta, f, g, i\n",
      "i\t\ta, g, h\n"
     ]
    }
   ],
   "source": [
    "# Lista de adjacencia do grafo.\n",
    "listaAdjacente(grafo)"
   ]
  },
  {
   "cell_type": "code",
   "execution_count": 7,
   "id": "b405e46c",
   "metadata": {},
   "outputs": [
    {
     "data": {
      "text/plain": [
       "9×9 Matrix{Int64}:\n",
       " 0  1  1  1  1  1  1  1  1\n",
       " 1  0  1  1  0  0  0  0  0\n",
       " 1  1  0  1  1  0  1  0  0\n",
       " 1  1  1  0  1  0  1  0  0\n",
       " 1  0  1  1  0  0  1  0  0\n",
       " 1  0  0  0  0  0  0  1  0\n",
       " 1  0  1  1  1  0  0  1  1\n",
       " 1  0  0  0  0  1  1  0  1\n",
       " 1  0  0  0  0  0  1  1  0"
      ]
     },
     "execution_count": 7,
     "metadata": {},
     "output_type": "execute_result"
    }
   ],
   "source": [
    "# Matriz de adjacencia do grafo.\n",
    "matrizAdjacencia(grafo)"
   ]
  },
  {
   "cell_type": "code",
   "execution_count": 8,
   "id": "37072e25",
   "metadata": {},
   "outputs": [
    {
     "data": {
      "text/plain": [
       "9×20 Matrix{Int64}:\n",
       " 1  1  1  1  1  1  1  1  0  0  0  0  0  0  0  0  0  0  0  0\n",
       " 1  0  0  0  0  0  0  0  0  0  0  0  0  0  0  0  0  0  1  1\n",
       " 0  1  0  0  0  0  0  0  0  0  0  0  1  0  0  1  0  1  0  1\n",
       " 0  0  1  0  0  0  0  0  0  0  0  0  0  1  0  0  1  1  1  0\n",
       " 0  0  0  1  0  0  0  0  0  0  0  0  0  0  1  1  1  0  0  0\n",
       " 0  0  0  0  0  0  0  1  1  0  0  0  0  0  0  0  0  0  0  0\n",
       " 0  0  0  0  1  0  0  0  0  1  0  1  1  1  1  0  0  0  0  0\n",
       " 0  0  0  0  0  0  1  0  1  1  1  0  0  0  0  0  0  0  0  0\n",
       " 0  0  0  0  0  1  0  0  0  0  1  1  0  0  0  0  0  0  0  0"
      ]
     },
     "execution_count": 8,
     "metadata": {},
     "output_type": "execute_result"
    }
   ],
   "source": [
    "# matriz de incidencia do grafo.\n",
    "matrizIncidencia(grafo)"
   ]
  },
  {
   "cell_type": "code",
   "execution_count": 9,
   "id": "19bf1d0d",
   "metadata": {},
   "outputs": [
    {
     "name": "stdout",
     "output_type": "stream",
     "text": [
      "A ordem do grafo é 9."
     ]
    }
   ],
   "source": [
    "# Ordem do grafo.\n",
    "ordemGrafo(grafo);"
   ]
  },
  {
   "cell_type": "code",
   "execution_count": 10,
   "id": "3c2e7333",
   "metadata": {},
   "outputs": [
    {
     "name": "stdout",
     "output_type": "stream",
     "text": [
      "O tamanho do grafo é 20."
     ]
    }
   ],
   "source": [
    "# tamanho do grafo.\n",
    "tamanhoGrafo(grafo);"
   ]
  },
  {
   "cell_type": "code",
   "execution_count": 11,
   "id": "c92f772f",
   "metadata": {},
   "outputs": [
    {
     "name": "stdout",
     "output_type": "stream",
     "text": [
      "Vizinhança do vertice a: b, c, d, e, f, g, h, i"
     ]
    }
   ],
   "source": [
    "# Vizinhança de um vertice do grafo.\n",
    "vizinhanca(grafo, a);"
   ]
  },
  {
   "cell_type": "code",
   "execution_count": 17,
   "id": "57f99ec4",
   "metadata": {},
   "outputs": [],
   "source": [
    "# Criação de um vetor de vertices.\n",
    "vertices = [a, b, c];"
   ]
  },
  {
   "cell_type": "code",
   "execution_count": 18,
   "id": "b161c817",
   "metadata": {},
   "outputs": [
    {
     "name": "stdout",
     "output_type": "stream",
     "text": [
      "Vizinhança dos vertices a, b, c: d"
     ]
    }
   ],
   "source": [
    "# Vizinhança de vários vertices do grafo.\n",
    "vizinhancas(grafo, vertices);"
   ]
  },
  {
   "cell_type": "code",
   "execution_count": 14,
   "id": "cb7fe05d",
   "metadata": {},
   "outputs": [
    {
     "name": "stdout",
     "output_type": "stream",
     "text": [
      "O grau do vertice f é 2."
     ]
    }
   ],
   "source": [
    "# Grau do vertice do grafo.\n",
    "calcularGrauVertice(grafo, f);"
   ]
  },
  {
   "cell_type": "code",
   "execution_count": null,
   "id": "69317b78",
   "metadata": {},
   "outputs": [],
   "source": []
  }
 ],
 "metadata": {
  "kernelspec": {
   "display_name": "Julia 1.7.2",
   "language": "julia",
   "name": "julia-1.7"
  },
  "language_info": {
   "file_extension": ".jl",
   "mimetype": "application/julia",
   "name": "julia",
   "version": "1.7.2"
  }
 },
 "nbformat": 4,
 "nbformat_minor": 5
}
